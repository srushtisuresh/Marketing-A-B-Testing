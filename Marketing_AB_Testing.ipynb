{
 "cells": [
  {
   "cell_type": "markdown",
   "id": "614cbdff-b5b7-40d4-8946-a93a19c34b21",
   "metadata": {},
   "source": [
    "# A/B Testing on Marketing Data\n",
    "\n",
    "##### The dataset consists of control and exposed group of users who chose/not chose to respond to the BIO Questionnaire presented in two different forms. We are trying to understand what experiment worked best for the company using Sampling Distribution under the null hypothesis."
   ]
  },
  {
   "cell_type": "code",
   "execution_count": 1,
   "id": "3c7638c2-1cea-490d-8e19-194261adaa57",
   "metadata": {},
   "outputs": [],
   "source": [
    "import pandas as pd\n",
    "import numpy as np\n",
    "%matplotlib inline\n",
    "import seaborn as sns\n",
    "import matplotlib.pyplot as plt\n",
    "from matplotlib.lines import Line2D"
   ]
  },
  {
   "cell_type": "code",
   "execution_count": 2,
   "id": "eb28a149-370f-48a2-b6e5-0ad456f5f2f1",
   "metadata": {},
   "outputs": [],
   "source": [
    "#Importing libraries for A/B Testing\n",
    "import scipy.stats as stats\n",
    "import statsmodels.api as sm\n",
    "from statsmodels.stats.proportion import proportions_ztest"
   ]
  },
  {
   "cell_type": "code",
   "execution_count": 3,
   "id": "f42a9a04-613a-4e3b-b1fc-1f87a8191daa",
   "metadata": {},
   "outputs": [],
   "source": [
    "data=pd.read_csv('Adsmart_data.csv')"
   ]
  },
  {
   "cell_type": "code",
   "execution_count": 4,
   "id": "ab523a18-0dc1-4cad-a09d-d6cc3ac9e041",
   "metadata": {},
   "outputs": [
    {
     "data": {
      "text/html": [
       "<div>\n",
       "<style scoped>\n",
       "    .dataframe tbody tr th:only-of-type {\n",
       "        vertical-align: middle;\n",
       "    }\n",
       "\n",
       "    .dataframe tbody tr th {\n",
       "        vertical-align: top;\n",
       "    }\n",
       "\n",
       "    .dataframe thead th {\n",
       "        text-align: right;\n",
       "    }\n",
       "</style>\n",
       "<table border=\"1\" class=\"dataframe\">\n",
       "  <thead>\n",
       "    <tr style=\"text-align: right;\">\n",
       "      <th></th>\n",
       "      <th>auction_id</th>\n",
       "      <th>experiment</th>\n",
       "      <th>date</th>\n",
       "      <th>hour</th>\n",
       "      <th>device_make</th>\n",
       "      <th>platform_os</th>\n",
       "      <th>browser</th>\n",
       "      <th>yes</th>\n",
       "      <th>no</th>\n",
       "    </tr>\n",
       "  </thead>\n",
       "  <tbody>\n",
       "    <tr>\n",
       "      <th>0</th>\n",
       "      <td>0008ef63-77a7-448b-bd1e-075f42c55e39</td>\n",
       "      <td>exposed</td>\n",
       "      <td>2020-07-10</td>\n",
       "      <td>8</td>\n",
       "      <td>Generic Smartphone</td>\n",
       "      <td>6</td>\n",
       "      <td>Chrome Mobile</td>\n",
       "      <td>0</td>\n",
       "      <td>0</td>\n",
       "    </tr>\n",
       "    <tr>\n",
       "      <th>1</th>\n",
       "      <td>000eabc5-17ce-4137-8efe-44734d914446</td>\n",
       "      <td>exposed</td>\n",
       "      <td>2020-07-07</td>\n",
       "      <td>10</td>\n",
       "      <td>Generic Smartphone</td>\n",
       "      <td>6</td>\n",
       "      <td>Chrome Mobile</td>\n",
       "      <td>0</td>\n",
       "      <td>0</td>\n",
       "    </tr>\n",
       "    <tr>\n",
       "      <th>2</th>\n",
       "      <td>0016d14a-ae18-4a02-a204-6ba53b52f2ed</td>\n",
       "      <td>exposed</td>\n",
       "      <td>2020-07-05</td>\n",
       "      <td>2</td>\n",
       "      <td>E5823</td>\n",
       "      <td>6</td>\n",
       "      <td>Chrome Mobile WebView</td>\n",
       "      <td>0</td>\n",
       "      <td>1</td>\n",
       "    </tr>\n",
       "    <tr>\n",
       "      <th>3</th>\n",
       "      <td>00187412-2932-4542-a8ef-3633901c98d9</td>\n",
       "      <td>control</td>\n",
       "      <td>2020-07-03</td>\n",
       "      <td>15</td>\n",
       "      <td>Samsung SM-A705FN</td>\n",
       "      <td>6</td>\n",
       "      <td>Facebook</td>\n",
       "      <td>0</td>\n",
       "      <td>0</td>\n",
       "    </tr>\n",
       "    <tr>\n",
       "      <th>4</th>\n",
       "      <td>001a7785-d3fe-4e11-a344-c8735acacc2c</td>\n",
       "      <td>control</td>\n",
       "      <td>2020-07-03</td>\n",
       "      <td>15</td>\n",
       "      <td>Generic Smartphone</td>\n",
       "      <td>6</td>\n",
       "      <td>Chrome Mobile</td>\n",
       "      <td>0</td>\n",
       "      <td>0</td>\n",
       "    </tr>\n",
       "  </tbody>\n",
       "</table>\n",
       "</div>"
      ],
      "text/plain": [
       "                             auction_id experiment        date  hour  \\\n",
       "0  0008ef63-77a7-448b-bd1e-075f42c55e39    exposed  2020-07-10     8   \n",
       "1  000eabc5-17ce-4137-8efe-44734d914446    exposed  2020-07-07    10   \n",
       "2  0016d14a-ae18-4a02-a204-6ba53b52f2ed    exposed  2020-07-05     2   \n",
       "3  00187412-2932-4542-a8ef-3633901c98d9    control  2020-07-03    15   \n",
       "4  001a7785-d3fe-4e11-a344-c8735acacc2c    control  2020-07-03    15   \n",
       "\n",
       "          device_make  platform_os                browser  yes  no  \n",
       "0  Generic Smartphone            6          Chrome Mobile    0   0  \n",
       "1  Generic Smartphone            6          Chrome Mobile    0   0  \n",
       "2               E5823            6  Chrome Mobile WebView    0   1  \n",
       "3   Samsung SM-A705FN            6               Facebook    0   0  \n",
       "4  Generic Smartphone            6          Chrome Mobile    0   0  "
      ]
     },
     "execution_count": 4,
     "metadata": {},
     "output_type": "execute_result"
    }
   ],
   "source": [
    "data.head()"
   ]
  },
  {
   "cell_type": "code",
   "execution_count": 5,
   "id": "3a3eb61e-cf9f-4205-b873-3380dbd1b830",
   "metadata": {},
   "outputs": [
    {
     "name": "stdout",
     "output_type": "stream",
     "text": [
      "<class 'pandas.core.frame.DataFrame'>\n",
      "RangeIndex: 8077 entries, 0 to 8076\n",
      "Data columns (total 9 columns):\n",
      " #   Column       Non-Null Count  Dtype \n",
      "---  ------       --------------  ----- \n",
      " 0   auction_id   8077 non-null   object\n",
      " 1   experiment   8077 non-null   object\n",
      " 2   date         8077 non-null   object\n",
      " 3   hour         8077 non-null   int64 \n",
      " 4   device_make  8077 non-null   object\n",
      " 5   platform_os  8077 non-null   int64 \n",
      " 6   browser      8077 non-null   object\n",
      " 7   yes          8077 non-null   int64 \n",
      " 8   no           8077 non-null   int64 \n",
      "dtypes: int64(4), object(5)\n",
      "memory usage: 568.0+ KB\n"
     ]
    }
   ],
   "source": [
    "data.info()"
   ]
  },
  {
   "cell_type": "code",
   "execution_count": 6,
   "id": "4185e330-80ee-4de1-b074-f6ae07fff621",
   "metadata": {},
   "outputs": [
    {
     "data": {
      "text/plain": [
       "269"
      ]
     },
     "execution_count": 6,
     "metadata": {},
     "output_type": "execute_result"
    }
   ],
   "source": [
    "len(data['device_make'].unique())"
   ]
  },
  {
   "cell_type": "code",
   "execution_count": 7,
   "id": "e7ba01dc-86ff-46bd-b077-d8e620e6754a",
   "metadata": {},
   "outputs": [
    {
     "name": "stdout",
     "output_type": "stream",
     "text": [
      "3\n",
      "[6 5 7]\n"
     ]
    }
   ],
   "source": [
    "print(len(data['platform_os'].unique()))\n",
    "print(data['platform_os'].unique())"
   ]
  },
  {
   "cell_type": "code",
   "execution_count": 8,
   "id": "79c3d433-6ce0-4af2-abc8-263b4c280950",
   "metadata": {},
   "outputs": [
    {
     "name": "stdout",
     "output_type": "stream",
     "text": [
      "15\n",
      "['Chrome Mobile' 'Chrome Mobile WebView' 'Facebook' 'Mobile Safari'\n",
      " 'Chrome Mobile iOS' 'Samsung Internet' 'Mobile Safari UI/WKWebView'\n",
      " 'Chrome' 'Opera Mini' 'Edge Mobile' 'Android' 'Pinterest' 'Opera Mobile'\n",
      " 'Firefox Mobile' 'Puffin']\n"
     ]
    }
   ],
   "source": [
    "print(len(data['browser'].unique()))\n",
    "print(data['browser'].unique())"
   ]
  },
  {
   "cell_type": "code",
   "execution_count": 9,
   "id": "309f3b27-2694-4489-94fe-8de9e04e5ad0",
   "metadata": {},
   "outputs": [
    {
     "name": "stdout",
     "output_type": "stream",
     "text": [
      "2020-07-10\n",
      "2020-07-03\n"
     ]
    }
   ],
   "source": [
    "#range of dates\n",
    "data=data.sort_values(by='date',ascending=False)\n",
    "print(data['date'].head(1).values[0])\n",
    "print(data['date'].tail(1).values[0])"
   ]
  },
  {
   "cell_type": "markdown",
   "id": "a0837a5f-643b-4019-866a-6baf571abf04",
   "metadata": {},
   "source": [
    "**Observation: This experiment was run for 7 days on 8077 people. There are various unique values when it comes to the data of devices and browsers used. We can conduct analysis on the same later in the project.**"
   ]
  },
  {
   "cell_type": "code",
   "execution_count": 10,
   "id": "b369776e-a5d1-4734-bb0f-458c7b821ae8",
   "metadata": {},
   "outputs": [
    {
     "name": "stdout",
     "output_type": "stream",
     "text": [
      "There are no duplicates\n"
     ]
    }
   ],
   "source": [
    "#checking for duplicates\n",
    "if data.iloc[: ,0].nunique() == data.shape[0]:\n",
    "    print('There are no duplicates')\n",
    "else:\n",
    "    print('There are some duplicates')"
   ]
  },
  {
   "cell_type": "markdown",
   "id": "1070e4f7-166c-415e-b989-c661b268d2ad",
   "metadata": {},
   "source": [
    "## Analysis"
   ]
  },
  {
   "cell_type": "markdown",
   "id": "17a067a2-5440-446e-93e0-0f25e08c4361",
   "metadata": {},
   "source": [
    "We are interested in the data where the users interacted with the BIO Questionnaire. Thus, I seperated the data into two different groups of controlled and exposed with the data of the users who interacted with the questionnaire."
   ]
  },
  {
   "cell_type": "code",
   "execution_count": 11,
   "id": "045527f6-b797-4a75-a599-8bd5554f2622",
   "metadata": {},
   "outputs": [
    {
     "name": "stdout",
     "output_type": "stream",
     "text": [
      "Number of people who interacted with the BIO Questionnaire are 1243\n"
     ]
    }
   ],
   "source": [
    "#How many people interacted with the questionnaire?\n",
    "result = data.query('yes==0 & no==0')\n",
    "len(result)\n",
    "print('Number of people who interacted with the BIO Questionnaire are',len(data)-len(result))"
   ]
  },
  {
   "cell_type": "code",
   "execution_count": 12,
   "id": "085f1832-255c-4483-b70f-49cc92202393",
   "metadata": {},
   "outputs": [
    {
     "name": "stdout",
     "output_type": "stream",
     "text": [
      "Number of people in the exposed group are 657\n",
      "among which 46.88% converted\n",
      "\n",
      "\n",
      "On the other hand\n",
      "\n",
      "\n",
      "Number of people in the control group are 586\n",
      "among which 45.05% converted\n"
     ]
    }
   ],
   "source": [
    "#Among the 1243 people, I will divide the data into two sets: exposed and control\n",
    "# Filter out users that were not interacting\n",
    "new_data = data.query('yes==1 | no==1')\n",
    "\n",
    "# Divide a dataframe by exposed and control group\n",
    "exposed = new_data.query('experiment == \"exposed\"')\n",
    "control = new_data.query('experiment == \"control\"')\n",
    "\n",
    "exposed_conversion = '{0:.2f}%'.format(exposed.yes.mean()*100)\n",
    "control_conversion = '{0:.2f}%'.format(control.yes.mean()*100)\n",
    "\n",
    "print('Number of people in the exposed group are',len(exposed))\n",
    "print('among which',exposed_conversion, 'converted')\n",
    "\n",
    "print('\\n')\n",
    "\n",
    "print('On the other hand')\n",
    "\n",
    "print('\\n')\n",
    "\n",
    "print('Number of people in the control group are',len(control))\n",
    "print('among which',control_conversion, 'converted')"
   ]
  },
  {
   "cell_type": "code",
   "execution_count": 14,
   "id": "07379218-81b8-4f0d-a7f4-668b7c04f48c",
   "metadata": {},
   "outputs": [
    {
     "name": "stdout",
     "output_type": "stream",
     "text": [
      "The difference between the conversion rates is 1.83%\n"
     ]
    }
   ],
   "source": [
    "diff = exposed.yes.mean() - control.yes.mean()\n",
    "diff_1 = '{0:.2f}%'.format(diff*100)\n",
    "print('The difference between the conversion rates is',diff_1)"
   ]
  },
  {
   "cell_type": "markdown",
   "id": "c145b995-52dd-443e-bc10-0b684b486410",
   "metadata": {},
   "source": [
    "## Please Find Visualization of variables with the control and exposed group On Tableau"
   ]
  },
  {
   "cell_type": "markdown",
   "id": "56d48de1-6299-405d-99d6-948f9dc2f92c",
   "metadata": {},
   "source": [
    "## Formulation of Hypothesis"
   ]
  },
  {
   "cell_type": "markdown",
   "id": "0bd4ca0c-0285-4338-9557-18dae6344932",
   "metadata": {},
   "source": [
    "𝑁𝑢𝑙𝑙 (𝐻0) 𝑎𝑛𝑑 𝐴𝑙𝑡𝑒𝑟𝑛𝑎𝑡𝑖𝑣𝑒 (𝐻1) 𝐻𝑦𝑝𝑜𝑡ℎ𝑒𝑠𝑖𝑠\n",
    " \n",
    "𝐻0: 𝑌𝑛𝑒𝑤− 𝑌𝑜𝑙𝑑=0\n",
    " \n",
    "𝐻1: 𝑌𝑛𝑒𝑤− 𝑌𝑜𝑙𝑑>0\n",
    "\n",
    "Null hypothesis states that there are no changes in the conversion rate between the two ads. However, the alternative hypothsis states that the conversion rate is higher with the new creative ad (exposed) than the dummy ad (control). Here we are trying to confirm the alternate hypothesis which we believe in.\n",
    "\n",
    "We will consider the level of significance to be 5%. Let's compare the resulted p value to the significance level to test our hypothesis."
   ]
  },
  {
   "cell_type": "markdown",
   "id": "8d5a5f91-eb4f-4885-8cdf-0e653e18331f",
   "metadata": {},
   "source": [
    "## Sampling Distribution"
   ]
  },
  {
   "cell_type": "code",
   "execution_count": 60,
   "id": "d9721b82-38c9-46c8-8d2f-70105c002554",
   "metadata": {},
   "outputs": [],
   "source": [
    "#storing only yes = 1 in exposed and control groups\n",
    "exposed_1 = exposed.query('yes == 1')\n",
    "control_1 = control.query('yes == 1')"
   ]
  },
  {
   "cell_type": "code",
   "execution_count": 16,
   "id": "948441ad-f6e6-4cd1-ba98-151f15a07db9",
   "metadata": {},
   "outputs": [
    {
     "data": {
      "text/plain": [
       "array([308, 264])"
      ]
     },
     "execution_count": 16,
     "metadata": {},
     "output_type": "execute_result"
    }
   ],
   "source": [
    "#storing number of conversions for exposed and control groups as numpy arrays\n",
    "count = np.array([exposed_1.shape[0], control_1.shape[0]])\n",
    "count"
   ]
  },
  {
   "cell_type": "code",
   "execution_count": 17,
   "id": "caa9c75f-26b0-47e6-8f71-45f104f2c9dc",
   "metadata": {},
   "outputs": [
    {
     "data": {
      "text/plain": [
       "array([657, 586])"
      ]
     },
     "execution_count": 17,
     "metadata": {},
     "output_type": "execute_result"
    }
   ],
   "source": [
    "#storing sample sizes of exposed and control group as numpy arrays\n",
    "nobs = np.array([exposed.shape[0], control.shape[0]])\n",
    "nobs"
   ]
  },
  {
   "cell_type": "code",
   "execution_count": 18,
   "id": "062cdb4d-80f1-4fbc-8eb4-24013c514427",
   "metadata": {},
   "outputs": [
    {
     "name": "stdout",
     "output_type": "stream",
     "text": [
      "P-value is = 25.92%\n"
     ]
    }
   ],
   "source": [
    "#storing results of z test in variables\n",
    "stat, p_val = proportions_ztest(count, nobs, alternative = 'larger')\n",
    "p_form = '{0:.2f}%'.format(p_val*100)\n",
    "print('P-value is =',p_form)"
   ]
  },
  {
   "cell_type": "markdown",
   "id": "5b4d312e-9e18-4203-bf0e-113c0e0c3e92",
   "metadata": {},
   "source": [
    "**Z-test is used to check whether the means of two populations are equal to each other when the population variance is known. The null hypothesis of a z test can be rejected if the z test statistic is statistically significant when compared with the critical value.**"
   ]
  },
  {
   "cell_type": "code",
   "execution_count": 26,
   "id": "0d772f35-5ce8-4d31-aa15-67da0198bc38",
   "metadata": {},
   "outputs": [
    {
     "data": {
      "text/plain": [
       "array([ 0.060689  ,  0.0217139 , -0.03938923, ...,  0.03229162,\n",
       "       -0.01078254,  0.02329762])"
      ]
     },
     "execution_count": 26,
     "metadata": {},
     "output_type": "execute_result"
    }
   ],
   "source": [
    "# Draw 100000 samples from binominal distribution\n",
    "e_simulation = np.random.binomial(exposed.shape[0], exposed.yes.mean(), 100000)/exposed.shape[0]\n",
    "c_simulation = np.random.binomial(control.shape[0], control.yes.mean(), 100000)/control.shape[0]\n",
    "p_diffs = e_simulation - c_simulation\n",
    "diffs = np.array(p_diffs)\n",
    "\n",
    "#Creation of normal distribution centered at zero\n",
    "null_vals = np.random.normal(0, np.std(diffs), len(diffs))\n",
    "null_vals"
   ]
  },
  {
   "cell_type": "code",
   "execution_count": 47,
   "id": "d1a0717b-4992-4f8b-b32a-4f1de1bd6d9e",
   "metadata": {},
   "outputs": [],
   "source": [
    "def statplot(data, lim, obs_stat, title):\n",
    "    #Create a kdeplot\n",
    "    plt.figure(figsize=(12,4), tight_layout=True)\n",
    "    ax = sns.kdeplot(data, linewidth = 0.8, color = 'black')\n",
    "    \n",
    "    # Simple formatting\n",
    "    frame = ['right', 'left', 'top']\n",
    "    for i in frame:\n",
    "        ax.spines[i].set_visible(False)\n",
    "\n",
    "    plt.title(title)\n",
    "    plt.ylabel('')\n",
    "    plt.yticks([], [])\n",
    "    \n",
    "    # Legend\n",
    "    line = Line2D([0], [0], color='blue', linestyle = '-', label='observed statistic')\n",
    "    line_dashed = Line2D([0], [0], color='red', linestyle = '--', label='mean and standard deviation')\n",
    "    plt.legend(handles=[line, line_dashed], loc='upper left');\n",
    "    \n",
    "    # Create a list of 3 standard deviation to the left and to the right and mean\n",
    "    std_list = []\n",
    "    std_list_format = []\n",
    "    for i in range(-3,4):\n",
    "        std_dev = np.std(data) * i + np.mean(data)\n",
    "        std_list.append(std_dev)\n",
    "        std_list_format.append('{0:.3f}'.format(std_dev) + '\\n {} std'.format(i))\n",
    "        \n",
    "    # Create a list of corresponding y values\n",
    "    data_x, data_y = ax.lines[0].get_data()\n",
    "    height = []\n",
    "    for i in std_list:\n",
    "        height.append(np.interp(i, data_x, data_y))\n",
    "        \n",
    "    # Plotting vertical lines representing std deviations \n",
    "    for a, b in zip(std_list, height):\n",
    "        plt.axvline(a, 0, b/lim, color = 'blue', alpha = 1, linewidth = 0.8, linestyle = '--')\n",
    "        plt.plot(a, b, marker = 'o', color = 'black')\n",
    "    \n",
    "    # Plotting observed statistic\n",
    "    obs_line_height = np.interp(obs_stat, data_x, data_y)\n",
    "    plt.axvline(obs_stat, 0, obs_line_height/lim, color = 'yellow', alpha = 1, linewidth = 0.8, linestyle = '-')\n",
    "    plt.plot(obs_stat, obs_line_height, marker = 'o', color = 'yellow')\n",
    "            \n",
    "    # Plotting x ticks\n",
    "    x_ticks = std_list\n",
    "    x_labels = std_list_format\n",
    "    plt.xticks(x_ticks, x_labels)\n",
    "    plt.ylim(0,lim)"
   ]
  },
  {
   "cell_type": "code",
   "execution_count": 48,
   "id": "d02f28ff-dbd3-4597-a2f8-1b57478160ea",
   "metadata": {},
   "outputs": [],
   "source": [
    "def shading(data, left, right, color):\n",
    "    #Shading areas\n",
    "    kde = stats.gaussian_kde(data)\n",
    "    shade = np.linspace(left, right, 100)\n",
    "    plt.fill_between(shade, kde(shade), color = color, alpha = 0.5);"
   ]
  },
  {
   "cell_type": "code",
   "execution_count": 54,
   "id": "25d18b0d-562b-49c7-a8ae-d78aa4f094c0",
   "metadata": {},
   "outputs": [
    {
     "data": {
      "image/png": "[encoded data removed]",
      "text/plain": [
       "<Figure size 864x288 with 1 Axes>"
      ]
     },
     "metadata": {
      "needs_background": "light"
     },
     "output_type": "display_data"
    }
   ],
   "source": [
    "# Plotting the sampling distribution\n",
    "statplot(null_vals, 15, diff, 'Sampling Distribution of the difference in sample proportions under the null hypothesis')\n",
    "shading(null_vals, diff, null_vals.max(),'#e6995e')\n",
    "shading(null_vals, null_vals.min(), diff,'#a14803')\n",
    "plt.text(0.075, 12, \"P-value = {}\".format(p_form), color = 'black', size = 15);"
   ]
  },
  {
   "cell_type": "markdown",
   "id": "642ff57d-0def-428d-b36a-228e9c16eea4",
   "metadata": {},
   "source": [
    "**The yellow line indicates the beginning of the conversion rates that falls between the first std deviation. The probability is 25.92% which is way higher than the significance value we chose i.e., 5%. This implies that we fail to reject the null hypothesis and that we do not have enough evidence to conclude that the conversion rate with the new creative as is higher than the dummy ad.**"
   ]
  }
 ],
 "metadata": {
  "kernelspec": {
   "display_name": "Python 3 (ipykernel)",
   "language": "python",
   "name": "python3"
  },
  "language_info": {
   "codemirror_mode": {
    "name": "ipython",
    "version": 3
   },
   "file_extension": ".py",
   "mimetype": "text/x-python",
   "name": "python",
   "nbconvert_exporter": "python",
   "pygments_lexer": "ipython3",
   "version": "3.9.7"
  }
 },
 "nbformat": 4,
 "nbformat_minor": 5
}
